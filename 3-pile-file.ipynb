{
 "cells": [
  {
   "cell_type": "code",
   "execution_count": null,
   "metadata": {},
   "outputs": [],
   "source": [
    "%%html\n",
    "<link rel=\"stylesheet\" href=\"phm.css\" />"
   ]
  },
  {
   "cell_type": "markdown",
   "metadata": {},
   "source": [
    "<div class=\"note\">\n",
    "\n",
    "**3. — Structure de données pile et file**   \n",
    "Philippe Marquet  \n",
    "DIU Enseigner l'informatique au lycée, AEFE, juin-juillet 2020, bloc 5 \n",
    "</div>"
   ]
  },
  {
   "cell_type": "markdown",
   "metadata": {},
   "source": [
    "<div class=\"preliminaire\">\n",
    "\n",
    "##### au menu\n",
    "* rappels sur les structures de données _pile_ et _file_  \n",
    "* des classes `Stack` et `Queue`  \n",
    "</div>"
   ]
  },
  {
   "cell_type": "markdown",
   "metadata": {},
   "source": [
    "# Structure de données abstraite _pile_ — rappel\n",
    "\n",
    "* une pile est une suite finie d'éléments\n",
    "* premier arrivé, dernier sorti — _last in, first out_ — **LIFO**"
   ]
  },
  {
   "cell_type": "markdown",
   "metadata": {},
   "source": [
    "## primitives sur les piles  \n",
    "\n",
    "<div class=\"note\"> \n",
    "    \n",
    "_top_ n'est pas indispensable \n",
    "1. _pop_ dépiler ; récupérer la valeur du sommet de pile dans $e$\n",
    "2. _push_ empiler cette valeur $e$\n",
    "</div>    \n",
    "\n",
    "* **constructeur**\n",
    "  - pile vide\n",
    "* **opérateurs** \n",
    "  - empiler, _push_ \n",
    "  - dépiler, _pop_ \n",
    "* **accesseur** \n",
    "  - sommet, _top_  \n",
    "* **prédicat**\n",
    "  - vacuité\n",
    "\n",
    "\n",
    "Primitives en $O(1)$ — temps constant"
   ]
  },
  {
   "cell_type": "markdown",
   "metadata": {},
   "source": [
    "## une classe `Stack`\n",
    "\n",
    "Fournie dans le fichier `stack.py`"
   ]
  },
  {
   "cell_type": "code",
   "execution_count": 1,
   "metadata": {},
   "outputs": [],
   "source": [
    "from stack import *\n",
    "from IPython.core.interactiveshell import InteractiveShell\n",
    "InteractiveShell.ast_node_interactivity = \"all\""
   ]
  },
  {
   "cell_type": "markdown",
   "metadata": {},
   "source": [
    "### documentation"
   ]
  },
  {
   "cell_type": "code",
   "execution_count": null,
   "metadata": {},
   "outputs": [],
   "source": [
    "help(Stack)"
   ]
  },
  {
   "cell_type": "markdown",
   "metadata": {},
   "source": [
    "### mutabilité\n",
    "\n",
    "Empiler un élément sur une pile ou dépiler \n",
    "\n",
    "* modifie la pile\n",
    "* structure _mutable_"
   ]
  },
  {
   "cell_type": "markdown",
   "metadata": {},
   "source": [
    "### exemple"
   ]
  },
  {
   "cell_type": "code",
   "execution_count": 16,
   "metadata": {},
   "outputs": [
    {
     "data": {
      "text/plain": [
       "1"
      ]
     },
     "execution_count": 16,
     "metadata": {},
     "output_type": "execute_result"
    }
   ],
   "source": [
    "p = Stack()\n",
    "p.push(42)\n",
    "p.push(1)\n",
    "p.top() "
   ]
  },
  {
   "cell_type": "code",
   "execution_count": 17,
   "metadata": {},
   "outputs": [
    {
     "data": {
      "text/plain": [
       "1"
      ]
     },
     "execution_count": 17,
     "metadata": {},
     "output_type": "execute_result"
    }
   ],
   "source": [
    "p.pop()"
   ]
  },
  {
   "cell_type": "code",
   "execution_count": 18,
   "metadata": {},
   "outputs": [
    {
     "data": {
      "text/plain": [
       "False"
      ]
     },
     "execution_count": 18,
     "metadata": {},
     "output_type": "execute_result"
    }
   ],
   "source": [
    "p.is_empty()"
   ]
  },
  {
   "cell_type": "code",
   "execution_count": 19,
   "metadata": {},
   "outputs": [
    {
     "data": {
      "text/plain": [
       "42"
      ]
     },
     "execution_count": 19,
     "metadata": {},
     "output_type": "execute_result"
    }
   ],
   "source": [
    "p.pop()"
   ]
  },
  {
   "cell_type": "code",
   "execution_count": 20,
   "metadata": {},
   "outputs": [
    {
     "data": {
      "text/plain": [
       "True"
      ]
     },
     "execution_count": 20,
     "metadata": {},
     "output_type": "execute_result"
    }
   ],
   "source": [
    "p.is_empty()"
   ]
  },
  {
   "cell_type": "markdown",
   "metadata": {},
   "source": [
    "# Structure de données abstraite _file_ — rappel\n",
    "\n",
    "* une file est une suite finie d'éléments\n",
    "* premier arrivé, premier sorti — _last in, first out_ — **FIFO**"
   ]
  },
  {
   "cell_type": "markdown",
   "metadata": {},
   "source": [
    "## primitives sur les files  \n",
    "* **constructeur**\n",
    "  - file vide\n",
    "* **opérateurs** \n",
    "  - emfiler, _queue_ \n",
    "  - défiler, _dequeue_ \n",
    "* **prédicat**\n",
    "  - vacuité\n",
    "\n",
    "\n",
    "Primitives en $O(1)$ — temps constant. \n"
   ]
  },
  {
   "cell_type": "markdown",
   "metadata": {},
   "source": [
    "## une classe `Queue`\n",
    "\n",
    "<div class=\"note\">\n",
    "    \n",
    "`queue.py` existe dans la bibliothèque Python\n",
    "</div>\n",
    "\n",
    "Fournie dans le fichier `mqueue.py` "
   ]
  },
  {
   "cell_type": "code",
   "execution_count": 22,
   "metadata": {},
   "outputs": [],
   "source": [
    "from mqueue import *\n",
    "from IPython.core.interactiveshell import InteractiveShell\n",
    "InteractiveShell.ast_node_interactivity = \"all\""
   ]
  },
  {
   "cell_type": "markdown",
   "metadata": {},
   "source": [
    "### documentation"
   ]
  },
  {
   "cell_type": "code",
   "execution_count": null,
   "metadata": {},
   "outputs": [],
   "source": [
    "help(Queue)"
   ]
  },
  {
   "cell_type": "markdown",
   "metadata": {},
   "source": [
    "### mutabilité\n",
    "\n",
    "Enfiler un élément dans la file ou défiler \n",
    "\n",
    "* modifie la file\n",
    "* structure _mutable_"
   ]
  },
  {
   "cell_type": "markdown",
   "metadata": {},
   "source": [
    "### exemple"
   ]
  },
  {
   "cell_type": "code",
   "execution_count": 23,
   "metadata": {},
   "outputs": [],
   "source": [
    "f = Queue()\n",
    "f.enqueue(42)\n",
    "f.enqueue(1)"
   ]
  },
  {
   "cell_type": "code",
   "execution_count": 24,
   "metadata": {},
   "outputs": [
    {
     "data": {
      "text/plain": [
       "42"
      ]
     },
     "execution_count": 24,
     "metadata": {},
     "output_type": "execute_result"
    }
   ],
   "source": [
    "f.dequeue()"
   ]
  },
  {
   "cell_type": "code",
   "execution_count": 25,
   "metadata": {},
   "outputs": [
    {
     "data": {
      "text/plain": [
       "False"
      ]
     },
     "execution_count": 25,
     "metadata": {},
     "output_type": "execute_result"
    }
   ],
   "source": [
    "f.is_empty()"
   ]
  },
  {
   "cell_type": "code",
   "execution_count": 26,
   "metadata": {},
   "outputs": [
    {
     "data": {
      "text/plain": [
       "1"
      ]
     },
     "execution_count": 26,
     "metadata": {},
     "output_type": "execute_result"
    }
   ],
   "source": [
    "f.dequeue()"
   ]
  },
  {
   "cell_type": "code",
   "execution_count": 27,
   "metadata": {},
   "outputs": [
    {
     "data": {
      "text/plain": [
       "True"
      ]
     },
     "execution_count": 27,
     "metadata": {},
     "output_type": "execute_result"
    }
   ],
   "source": [
    "f.is_empty()"
   ]
  },
  {
   "cell_type": "markdown",
   "metadata": {},
   "source": [
    "# Interface fonctionnelle - _pour aller plus loin_\n",
    "\n",
    "Une possible interface fonctionnelle pour les structures de données _pile_ et _file_ peut être définie. "
   ]
  },
  {
   "cell_type": "markdown",
   "metadata": {},
   "source": [
    "---\n",
    "Équipe pédagoqique DIU EIL, Philippe Marquet, ressource éducative libre distribuée sous [Licence Creative Commons Attribution - Partage dans les mêmes conditions 4.0 International](http://creativecommons.org/licenses/by-sa/4.0/deed.fr) ![Licence Creative Commons (CC BY-SA 4.0)](https://i.creativecommons.org/l/by-sa/4.0/88x31.png)\n"
   ]
  }
 ],
 "metadata": {
  "kernelspec": {
   "display_name": "Python 3",
   "language": "python",
   "name": "python3"
  },
  "language_info": {
   "codemirror_mode": {
    "name": "ipython",
    "version": 3
   },
   "file_extension": ".py",
   "mimetype": "text/x-python",
   "name": "python",
   "nbconvert_exporter": "python",
   "pygments_lexer": "ipython3",
   "version": "3.7.4"
  }
 },
 "nbformat": 4,
 "nbformat_minor": 4
}
